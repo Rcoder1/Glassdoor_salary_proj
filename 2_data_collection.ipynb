{
 "cells": [
  {
   "cell_type": "code",
   "execution_count": null,
   "id": "e11444d3",
   "metadata": {},
   "outputs": [],
   "source": [
    "# Getting all CSV files from a directory\n",
    "import pandas as pd\n",
    "import glob\n",
    "import numpy as np\n",
    "\n",
    "# specifying the path to csv files\n",
    "path = r'C:\\Users\\WM796GU\\Documents\\Springboard\\Capstone Project 2\\locations' # use your path\n",
    "\n",
    "# csv files in the path\n",
    "all_files = glob.glob(path + \"/*.csv\")\n",
    "data_frame = pd.DataFrame()\n",
    "# defining an empty list to store content\n",
    "content = []\n",
    "\n",
    "# checking all the csv files in the specified path\n",
    "for filename in all_files:\n",
    "    # reading content of csv file\n",
    "    df = pd.read_csv(filename, index_col=None)\n",
    "    content.append(df)\n",
    "\n",
    "# converting content to data frame\n",
    "data_frame = pd.concat(content)"
    "data_frame.to_csv("glassdoor_jobs.csv")"
   ]
  }
 ],
 "metadata": {
  "kernelspec": {
   "display_name": "Python 3 (ipykernel)",
   "language": "python",
   "name": "python3"
  },
  "language_info": {
   "codemirror_mode": {
    "name": "ipython",
    "version": 3
   },
   "file_extension": ".py",
   "mimetype": "text/x-python",
   "name": "python",
   "nbconvert_exporter": "python",
   "pygments_lexer": "ipython3",
   "version": "3.9.12"
  }
 },
 "nbformat": 4,
 "nbformat_minor": 5
}
