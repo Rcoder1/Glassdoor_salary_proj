{
 "cells": [
  {
   "cell_type": "markdown",
   "id": "1eae70e1",
   "metadata": {},
   "source": [
    "# Feature Engineering"
   ]
  },
  {
   "cell_type": "code",
   "execution_count": 1,
   "id": "bc244680",
   "metadata": {},
   "outputs": [],
   "source": [
    "import pandas as pd\n",
    "from sklearn.preprocessing import StandardScaler"
   ]
  },
  {
   "cell_type": "code",
   "execution_count": 2,
   "id": "40c795e3",
   "metadata": {},
   "outputs": [],
   "source": [
    "data_frame = pd.read_csv('salary_data_cleaned.csv')"
   ]
  },
  {
   "cell_type": "code",
   "execution_count": 3,
   "id": "ed416c7c",
   "metadata": {},
   "outputs": [
    {
     "name": "stdout",
     "output_type": "stream",
     "text": [
      "<class 'pandas.core.frame.DataFrame'>\n",
      "RangeIndex: 3313 entries, 0 to 3312\n",
      "Data columns (total 30 columns):\n",
      " #   Column                          Non-Null Count  Dtype  \n",
      "---  ------                          --------------  -----  \n",
      " 0   Job Title                       3313 non-null   object \n",
      " 1   Salary Estimate                 3313 non-null   object \n",
      " 2   Job Description                 3313 non-null   object \n",
      " 3   Rating                          3313 non-null   float64\n",
      " 4   Company Name                    3313 non-null   object \n",
      " 5   Location                        3313 non-null   object \n",
      " 6   Size                            3313 non-null   object \n",
      " 7   Founded                         3313 non-null   int64  \n",
      " 8   Type of ownership               3313 non-null   object \n",
      " 9   Industry                        3313 non-null   object \n",
      " 10  Sector                          3313 non-null   object \n",
      " 11  Revenue                         3313 non-null   object \n",
      " 12  City                            3313 non-null   object \n",
      " 13  Cost of Living Index            3313 non-null   float64\n",
      " 14  Rent Index                      3313 non-null   float64\n",
      " 15  Cost of Living Plus Rent Index  3313 non-null   float64\n",
      " 16  Local Purchasing Power Index    3313 non-null   float64\n",
      " 17  hourly                          3313 non-null   int64  \n",
      " 18  employer provided               3313 non-null   int64  \n",
      " 19  employer estimate               3313 non-null   int64  \n",
      " 20  min_salary                      3189 non-null   float64\n",
      " 21  max_salary                      3189 non-null   float64\n",
      " 22  avg_salary                      3313 non-null   float64\n",
      " 23  job_state                       3313 non-null   object \n",
      " 24  job_simp                        3313 non-null   object \n",
      " 25  seniority                       3313 non-null   object \n",
      " 26  desc_len                        3313 non-null   int64  \n",
      " 27  python_yn                       3313 non-null   int64  \n",
      " 28  sql_yn                          3313 non-null   int64  \n",
      " 29  age                             3313 non-null   int64  \n",
      "dtypes: float64(8), int64(8), object(14)\n",
      "memory usage: 776.6+ KB\n"
     ]
    }
   ],
   "source": [
    "data_frame.info()"
   ]
  },
  {
   "cell_type": "markdown",
   "id": "9be1e426",
   "metadata": {},
   "source": [
    "## Categorical variables"
   ]
  },
  {
   "cell_type": "markdown",
   "id": "66ba860d",
   "metadata": {},
   "source": [
    "### 1. Type of Ownership"
   ]
  },
  {
   "cell_type": "code",
   "execution_count": 4,
   "id": "110c204e",
   "metadata": {},
   "outputs": [
    {
     "data": {
      "text/plain": [
       "Company - Private                 1474\n",
       "Company - Public                  1284\n",
       "Nonprofit Organization             141\n",
       "Subsidiary or Business Segment     137\n",
       "Unknown                             96\n",
       "College / University                80\n",
       "Government                          44\n",
       "Hospital                            19\n",
       "Self-employed                       15\n",
       "Contract                            14\n",
       "Private Practice / Firm              8\n",
       "School / School District             1\n",
       "Name: Type of ownership, dtype: int64"
      ]
     },
     "execution_count": 4,
     "metadata": {},
     "output_type": "execute_result"
    }
   ],
   "source": [
    "#value counts for ownership map \n",
    "data_frame[\"Type of ownership\"].value_counts()"
   ]
  },
  {
   "cell_type": "code",
   "execution_count": 5,
   "id": "fe3cf2dd",
   "metadata": {
    "scrolled": true
   },
   "outputs": [
    {
     "name": "stdout",
     "output_type": "stream",
     "text": [
      "Company - Private    1474\n",
      "Company - Public     1284\n",
      "Other                 555\n",
      "Name: Type of ownership, dtype: int64\n"
     ]
    },
    {
     "name": "stderr",
     "output_type": "stream",
     "text": [
      "C:\\Users\\WM796GU\\AppData\\Local\\Temp\\ipykernel_11020\\1658777323.py:12: SettingWithCopyWarning: \n",
      "A value is trying to be set on a copy of a slice from a DataFrame\n",
      "\n",
      "See the caveats in the documentation: https://pandas.pydata.org/pandas-docs/stable/user_guide/indexing.html#returning-a-view-versus-a-copy\n",
      "  ownership[mask] = 'Other'\n"
     ]
    }
   ],
   "source": [
    "## Dealing with uncommon categories\n",
    "# Create a series out of the onwership column\n",
    "ownership = data_frame['Type of ownership']\n",
    "\n",
    "# Get the counts of each category\n",
    "ownership_counts = ownership.value_counts()\n",
    "\n",
    "# Create a mask for only categories that occur less than 200 times\n",
    "mask = ownership.isin(ownership_counts[ownership_counts < 200].index)\n",
    "\n",
    "# Label all other categories as Other\n",
    "ownership[mask] = 'Other'\n",
    "\n",
    "# Print the updated category counts\n",
    "print(ownership.value_counts()) "
   ]
  },
  {
   "cell_type": "code",
   "execution_count": 6,
   "id": "f7f3a3e4",
   "metadata": {},
   "outputs": [
    {
     "data": {
      "image/png": "[encoded data removed]",
      "text/plain": [
       "<Figure size 432x288 with 1 Axes>"
      ]
     },
     "metadata": {
      "needs_background": "light"
     },
     "output_type": "display_data"
    }
   ],
   "source": [
    "import seaborn as sns\n",
    "import matplotlib.pyplot as plt\n",
    "sns.barplot(x=data_frame['Type of ownership'], y=data_frame['avg_salary'])\n",
    "  \n",
    "plt.xlabel(\"Company Type\")\n",
    "plt.xticks(rotation=90)\n",
    "plt.ylabel(\"Salary\")\n",
    "plt.show()"
   ]
  },
  {
   "cell_type": "markdown",
   "id": "b488d0d5",
   "metadata": {},
   "source": [
    "### 2. Sector"
   ]
  },
  {
   "cell_type": "code",
   "execution_count": 7,
   "id": "5ddf3615",
   "metadata": {},
   "outputs": [
    {
     "data": {
      "text/plain": [
       "Information Technology                         733\n",
       "Financial Services                             453\n",
       "Management & Consulting                        351\n",
       "-1                                             307\n",
       "Manufacturing                                  189\n",
       "Healthcare                                     170\n",
       "Media & Communication                          154\n",
       "Pharmaceutical & Biotechnology                 139\n",
       "Human Resources & Staffing                     135\n",
       "Retail & Wholesale                             112\n",
       "Insurance                                       93\n",
       "Education                                       87\n",
       "Aerospace & Defense                             84\n",
       "Transportation & Logistics                      58\n",
       "Energy, Mining & Utilities                      50\n",
       "Government & Public Administration              44\n",
       "Telecommunications                              36\n",
       "Real Estate                                     26\n",
       "Construction, Repair & Maintenance Services     22\n",
       "Nonprofit & NGO                                 20\n",
       "Arts, Entertainment & Recreation                19\n",
       "Hotels & Travel Accommodation                   12\n",
       "Personal Consumer Services                       7\n",
       "Restaurants & Food Service                       6\n",
       "Legal                                            3\n",
       "Agriculture                                      3\n",
       "Name: Sector, dtype: int64"
      ]
     },
     "execution_count": 7,
     "metadata": {},
     "output_type": "execute_result"
    }
   ],
   "source": [
    "#value counts for sector map \n",
    "data_frame[\"Sector\"].value_counts()"
   ]
  },
  {
   "cell_type": "code",
   "execution_count": 8,
   "id": "d2bc2c27",
   "metadata": {
    "scrolled": true
   },
   "outputs": [
    {
     "name": "stdout",
     "output_type": "stream",
     "text": [
      "Information Technology            733\n",
      "Other                             682\n",
      "Financial Services                453\n",
      "Management & Consulting           351\n",
      "Unknown                           307\n",
      "Manufacturing                     189\n",
      "Healthcare                        170\n",
      "Media & Communication             154\n",
      "Pharmaceutical & Biotechnology    139\n",
      "Human Resources & Staffing        135\n",
      "Name: Sector, dtype: int64\n"
     ]
    },
    {
     "name": "stderr",
     "output_type": "stream",
     "text": [
      "C:\\Users\\WM796GU\\AppData\\Local\\Temp\\ipykernel_11020\\1915616575.py:12: SettingWithCopyWarning: \n",
      "A value is trying to be set on a copy of a slice from a DataFrame\n",
      "\n",
      "See the caveats in the documentation: https://pandas.pydata.org/pandas-docs/stable/user_guide/indexing.html#returning-a-view-versus-a-copy\n",
      "  sector[mask] = 'Other'\n",
      "C:\\Users\\WM796GU\\AppData\\Local\\Temp\\ipykernel_11020\\1915616575.py:13: SettingWithCopyWarning: \n",
      "A value is trying to be set on a copy of a slice from a DataFrame\n",
      "\n",
      "See the caveats in the documentation: https://pandas.pydata.org/pandas-docs/stable/user_guide/indexing.html#returning-a-view-versus-a-copy\n",
      "  sector.loc[lambda x : x == '-1']='Unknown'\n"
     ]
    }
   ],
   "source": [
    "## Dealing with uncommon categories\n",
    "# Create a series out of the Sector column\n",
    "sector = data_frame['Sector']\n",
    "\n",
    "# Get the counts of each category\n",
    "sector_counts = sector.value_counts()\n",
    "\n",
    "# Create a mask for only categories that occur less than 120 times\n",
    "mask = sector.isin(sector_counts[sector_counts < 120].index)\n",
    "\n",
    "# Label all other categories as Other\n",
    "sector[mask] = 'Other'\n",
    "sector.loc[lambda x : x == '-1']='Unknown'\n",
    "\n",
    "# Print the updated category counts\n",
    "print(sector.value_counts()) "
   ]
  },
  {
   "cell_type": "markdown",
   "id": "662c3d75",
   "metadata": {},
   "source": [
    "### 3. Revenue"
   ]
  },
  {
   "cell_type": "code",
   "execution_count": 9,
   "id": "25308bf1",
   "metadata": {},
   "outputs": [
    {
     "data": {
      "text/plain": [
       "Unknown / Non-Applicable            937\n",
       "$10+ billion (USD)                  933\n",
       "$1 to $5 billion (USD)              363\n",
       "$5 to $10 billion (USD)             316\n",
       "$25 to $100 million (USD)           259\n",
       "$100 to $500 million (USD)          171\n",
       "$500 million to $1 billion (USD)    121\n",
       "$5 to $25 million (USD)              98\n",
       "$1 to $5 million (USD)               67\n",
       "Less than $1 million (USD)           48\n",
       "Name: Revenue, dtype: int64"
      ]
     },
     "execution_count": 9,
     "metadata": {},
     "output_type": "execute_result"
    }
   ],
   "source": [
    "data_frame[\"Revenue\"].value_counts()"
   ]
  },
  {
   "cell_type": "code",
   "execution_count": 10,
   "id": "52df8dc4",
   "metadata": {},
   "outputs": [],
   "source": [
    "# Using ordinal encoding as there is an order in the different categories\n",
    "rev_map = {\"$10+ billion (USD)\": 9, \n",
    "          \"$5 to $10 billion (USD)\": 8, \n",
    "          \"$1 to $5 billion (USD)\":7,\n",
    "          \"$500 million to $1 billion (USD)\": 6,\n",
    "          \"$100 to $500 million (USD)\": 5,\n",
    "          \"$25 to $100 million (USD)\": 4,\n",
    "          \"$5 to $25 million (USD)\": 3,\n",
    "          \"$1 to $5 million (USD)\": 2,\n",
    "          \"Less than $1 million (USD)\": 1,\n",
    "          \"Unknown / Non-Applicable\": 0}"
   ]
  },
  {
   "cell_type": "code",
   "execution_count": 11,
   "id": "9bd58f82",
   "metadata": {},
   "outputs": [],
   "source": [
    "data_frame[\"Revenue\"] = data_frame[\"Revenue\"].map(rev_map)"
   ]
  },
  {
   "cell_type": "code",
   "execution_count": 12,
   "id": "4fc99884",
   "metadata": {
    "scrolled": true
   },
   "outputs": [
    {
     "data": {
      "text/plain": [
       "0    937\n",
       "9    933\n",
       "7    363\n",
       "8    316\n",
       "4    259\n",
       "5    171\n",
       "6    121\n",
       "3     98\n",
       "2     67\n",
       "1     48\n",
       "Name: Revenue, dtype: int64"
      ]
     },
     "execution_count": 12,
     "metadata": {},
     "output_type": "execute_result"
    }
   ],
   "source": [
    "data_frame['Revenue'].value_counts()"
   ]
  },
  {
   "cell_type": "markdown",
   "id": "712ad4fd",
   "metadata": {},
   "source": [
    "### 4. Size of company"
   ]
  },
  {
   "cell_type": "code",
   "execution_count": 13,
   "id": "d9d13cb3",
   "metadata": {},
   "outputs": [
    {
     "data": {
      "text/plain": [
       "10000+ Employees           1489\n",
       "1001 to 5000 Employees      501\n",
       "51 to 200 Employees         270\n",
       "1 to 50 Employees           258\n",
       "5001 to 10000 Employees     220\n",
       "Unknown                     207\n",
       "201 to 500 Employees        195\n",
       "501 to 1000 Employees       173\n",
       "Name: Size, dtype: int64"
      ]
     },
     "execution_count": 13,
     "metadata": {},
     "output_type": "execute_result"
    }
   ],
   "source": [
    "#get Value caount for size of company \n",
    "data_frame[\"Size\"].value_counts()"
   ]
  },
  {
   "cell_type": "code",
   "execution_count": 14,
   "id": "5891181c",
   "metadata": {},
   "outputs": [
    {
     "data": {
      "text/plain": [
       "7    1489\n",
       "5     501\n",
       "2     270\n",
       "1     258\n",
       "6     220\n",
       "0     207\n",
       "3     195\n",
       "4     173\n",
       "Name: Size, dtype: int64"
      ]
     },
     "execution_count": 14,
     "metadata": {},
     "output_type": "execute_result"
    }
   ],
   "source": [
    "#remap size category\n",
    "\n",
    "size_map = {\"10000+ Employees\":7,\n",
    "           \"5001 to 10000 Employees\": 6,\n",
    "            \"1001 to 5000 Employees\": 5,\n",
    "           \"501 to 1000 Employees\": 4,\n",
    "            \"201 to 500 Employees\": 3,\n",
    "           \"51 to 200 Employees\":2,\n",
    "           \"1 to 50 Employees\":1,\n",
    "           \"Unknown\":0}\n",
    "\n",
    "data_frame[\"Size\"] = data_frame[\"Size\"].map(size_map)\n",
    "data_frame[\"Size\"].value_counts()"
   ]
  },
  {
   "cell_type": "markdown",
   "id": "7c291bc4",
   "metadata": {},
   "source": [
    "### 5. Location"
   ]
  },
  {
   "cell_type": "code",
   "execution_count": 15,
   "id": "af57a7aa",
   "metadata": {},
   "outputs": [],
   "source": [
    "# to see output completely\n",
    "pd.options.display.max_rows\n",
    "pd.set_option('display.max_rows', None)"
   ]
  },
  {
   "cell_type": "code",
   "execution_count": 16,
   "id": "48e3e632",
   "metadata": {},
   "outputs": [
    {
     "data": {
      "text/plain": [
       "CA    652\n",
       "TX    281\n",
       "FL    259\n",
       "OH    256\n",
       "NC    182\n",
       "NY    180\n",
       "VA    113\n",
       "MD    111\n",
       "MO    109\n",
       "MA     97\n",
       "AZ     90\n",
       "MI     86\n",
       "CO     84\n",
       "WA     82\n",
       "IL     82\n",
       "UT     80\n",
       "OR     80\n",
       "MN     79\n",
       "GA     76\n",
       "PA     64\n",
       "IN     59\n",
       "TN     55\n",
       "DC     52\n",
       "NV     34\n",
       "KS     24\n",
       "HI     20\n",
       "NJ     18\n",
       "DE      6\n",
       "KY      1\n",
       "SC      1\n",
       "Name: job_state, dtype: int64"
      ]
     },
     "execution_count": 16,
     "metadata": {},
     "output_type": "execute_result"
    }
   ],
   "source": [
    "#value counts for states\n",
    "data_frame[\"job_state\"].value_counts()"
   ]
  },
  {
   "cell_type": "code",
   "execution_count": 17,
   "id": "876a92ca",
   "metadata": {},
   "outputs": [],
   "source": [
    "#create dictionary of states with respective US geo areas\n",
    "\n",
    "state_dict = {'WEST': ['CA', 'OR', 'WA', 'UT', 'NV','HI'],\n",
    "            'NORTH_EAST': ['MD', 'PA', 'NY', 'MA', 'DC','NJ'],\n",
    "            'SOUTH': ['AZ', 'TX', 'VA', 'FL', 'GA', 'NC','SC','TN','MD','DE','KY'],\n",
    "            'MIDWEST': ['MN', 'IL', 'IN','MI', 'OH', 'CO', 'MO', 'OH', 'KS']}"
   ]
  },
  {
   "cell_type": "code",
   "execution_count": 18,
   "id": "48a64f35",
   "metadata": {},
   "outputs": [],
   "source": [
    "#reverse dictinary to create map\n",
    "\n",
    "geo_map = {value: key for key in state_dict for value in state_dict[key]}"
   ]
  },
  {
   "cell_type": "code",
   "execution_count": 19,
   "id": "af787ac0",
   "metadata": {},
   "outputs": [
    {
     "data": {
      "text/plain": [
       "SOUTH         1175\n",
       "WEST           948\n",
       "MIDWEST        779\n",
       "NORTH_EAST     411\n",
       "Name: US, dtype: int64"
      ]
     },
     "execution_count": 19,
     "metadata": {},
     "output_type": "execute_result"
    }
   ],
   "source": [
    "#create geogrpahical labels based on location\n",
    "\n",
    "data_frame[\"US\"] = data_frame[\"job_state\"].map(geo_map)\n",
    "data_frame[\"US\"].value_counts()"
   ]
  },
  {
   "cell_type": "code",
   "execution_count": 20,
   "id": "13fb98fb",
   "metadata": {},
   "outputs": [
    {
     "data": {
      "text/plain": [
       "0"
      ]
     },
     "execution_count": 20,
     "metadata": {},
     "output_type": "execute_result"
    }
   ],
   "source": [
    "data_frame[\"US\"].isna().sum()"
   ]
  },
  {
   "cell_type": "code",
   "execution_count": 21,
   "id": "f042a889",
   "metadata": {},
   "outputs": [
    {
     "data": {
      "text/html": [
       "<div>\n",
       "<style scoped>\n",
       "    .dataframe tbody tr th:only-of-type {\n",
       "        vertical-align: middle;\n",
       "    }\n",
       "\n",
       "    .dataframe tbody tr th {\n",
       "        vertical-align: top;\n",
       "    }\n",
       "\n",
       "    .dataframe thead th {\n",
       "        text-align: right;\n",
       "    }\n",
       "</style>\n",
       "<table border=\"1\" class=\"dataframe\">\n",
       "  <thead>\n",
       "    <tr style=\"text-align: right;\">\n",
       "      <th></th>\n",
       "      <th>Job Title</th>\n",
       "      <th>Salary Estimate</th>\n",
       "      <th>Job Description</th>\n",
       "      <th>Rating</th>\n",
       "      <th>Company Name</th>\n",
       "      <th>Location</th>\n",
       "      <th>Size</th>\n",
       "      <th>Founded</th>\n",
       "      <th>Type of ownership</th>\n",
       "      <th>Industry</th>\n",
       "      <th>...</th>\n",
       "      <th>max_salary</th>\n",
       "      <th>avg_salary</th>\n",
       "      <th>job_state</th>\n",
       "      <th>job_simp</th>\n",
       "      <th>seniority</th>\n",
       "      <th>desc_len</th>\n",
       "      <th>python_yn</th>\n",
       "      <th>sql_yn</th>\n",
       "      <th>age</th>\n",
       "      <th>US</th>\n",
       "    </tr>\n",
       "  </thead>\n",
       "  <tbody>\n",
       "    <tr>\n",
       "      <th>0</th>\n",
       "      <td>Geospatial Researcher/Data Scientist IV</td>\n",
       "      <td>$76K - $120K (Glassdoor est.)</td>\n",
       "      <td>Battelle delivers when others can’t. We conduc...</td>\n",
       "      <td>3.6</td>\n",
       "      <td>Battelle</td>\n",
       "      <td>Fort Belvoir, VA</td>\n",
       "      <td>5</td>\n",
       "      <td>1929</td>\n",
       "      <td>Other</td>\n",
       "      <td>Research &amp; Development</td>\n",
       "      <td>...</td>\n",
       "      <td>120.0</td>\n",
       "      <td>98.0</td>\n",
       "      <td>VA</td>\n",
       "      <td>data scientist</td>\n",
       "      <td>na</td>\n",
       "      <td>984</td>\n",
       "      <td>0</td>\n",
       "      <td>0</td>\n",
       "      <td>93</td>\n",
       "      <td>SOUTH</td>\n",
       "    </tr>\n",
       "    <tr>\n",
       "      <th>1</th>\n",
       "      <td>Senior Data Scientist</td>\n",
       "      <td>$101K - $138K (Glassdoor est.)</td>\n",
       "      <td>JDSAT, Inc. is a solutions company - utilizing...</td>\n",
       "      <td>4.3</td>\n",
       "      <td>JDSAT</td>\n",
       "      <td>McLean, VA</td>\n",
       "      <td>1</td>\n",
       "      <td>-1</td>\n",
       "      <td>Company - Private</td>\n",
       "      <td>-1</td>\n",
       "      <td>...</td>\n",
       "      <td>138.0</td>\n",
       "      <td>119.5</td>\n",
       "      <td>VA</td>\n",
       "      <td>data scientist</td>\n",
       "      <td>senior</td>\n",
       "      <td>1127</td>\n",
       "      <td>0</td>\n",
       "      <td>0</td>\n",
       "      <td>36</td>\n",
       "      <td>SOUTH</td>\n",
       "    </tr>\n",
       "    <tr>\n",
       "      <th>2</th>\n",
       "      <td>Software Integrator / Data Scientist - Expert ...</td>\n",
       "      <td>$74K - $109K (Glassdoor est.)</td>\n",
       "      <td>*** Must have TS/SCI ***\\nJOB DESCRIPTION:\\nIn...</td>\n",
       "      <td>4.6</td>\n",
       "      <td>Que Technology Group</td>\n",
       "      <td>McLean, VA</td>\n",
       "      <td>1</td>\n",
       "      <td>-1</td>\n",
       "      <td>Company - Private</td>\n",
       "      <td>-1</td>\n",
       "      <td>...</td>\n",
       "      <td>109.0</td>\n",
       "      <td>91.5</td>\n",
       "      <td>VA</td>\n",
       "      <td>data scientist</td>\n",
       "      <td>na</td>\n",
       "      <td>594</td>\n",
       "      <td>0</td>\n",
       "      <td>0</td>\n",
       "      <td>36</td>\n",
       "      <td>SOUTH</td>\n",
       "    </tr>\n",
       "    <tr>\n",
       "      <th>3</th>\n",
       "      <td>Lead Data Scientist</td>\n",
       "      <td>$116K - $161K (Glassdoor est.)</td>\n",
       "      <td>Tensure is a fully-remote technology consultin...</td>\n",
       "      <td>3.8</td>\n",
       "      <td>Tensure Consulting</td>\n",
       "      <td>Washington, DC</td>\n",
       "      <td>1</td>\n",
       "      <td>-1</td>\n",
       "      <td>Company - Private</td>\n",
       "      <td>-1</td>\n",
       "      <td>...</td>\n",
       "      <td>161.0</td>\n",
       "      <td>138.5</td>\n",
       "      <td>DC</td>\n",
       "      <td>data scientist</td>\n",
       "      <td>senior</td>\n",
       "      <td>853</td>\n",
       "      <td>1</td>\n",
       "      <td>1</td>\n",
       "      <td>36</td>\n",
       "      <td>NORTH_EAST</td>\n",
       "    </tr>\n",
       "    <tr>\n",
       "      <th>4</th>\n",
       "      <td>Data Scientist</td>\n",
       "      <td>$76K - $108K (Glassdoor est.)</td>\n",
       "      <td>JDSAT, Inc. is a solutions company - utilizing...</td>\n",
       "      <td>4.3</td>\n",
       "      <td>JDSAT</td>\n",
       "      <td>McLean, VA</td>\n",
       "      <td>1</td>\n",
       "      <td>-1</td>\n",
       "      <td>Company - Private</td>\n",
       "      <td>-1</td>\n",
       "      <td>...</td>\n",
       "      <td>108.0</td>\n",
       "      <td>92.0</td>\n",
       "      <td>VA</td>\n",
       "      <td>data scientist</td>\n",
       "      <td>na</td>\n",
       "      <td>1325</td>\n",
       "      <td>0</td>\n",
       "      <td>0</td>\n",
       "      <td>36</td>\n",
       "      <td>SOUTH</td>\n",
       "    </tr>\n",
       "  </tbody>\n",
       "</table>\n",
       "<p>5 rows × 31 columns</p>\n",
       "</div>"
      ],
      "text/plain": [
       "                                           Job Title  \\\n",
       "0            Geospatial Researcher/Data Scientist IV   \n",
       "1                              Senior Data Scientist   \n",
       "2  Software Integrator / Data Scientist - Expert ...   \n",
       "3                                Lead Data Scientist   \n",
       "4                                     Data Scientist   \n",
       "\n",
       "                  Salary Estimate  \\\n",
       "0   $76K - $120K (Glassdoor est.)   \n",
       "1  $101K - $138K (Glassdoor est.)   \n",
       "2   $74K - $109K (Glassdoor est.)   \n",
       "3  $116K - $161K (Glassdoor est.)   \n",
       "4   $76K - $108K (Glassdoor est.)   \n",
       "\n",
       "                                     Job Description  Rating  \\\n",
       "0  Battelle delivers when others can’t. We conduc...     3.6   \n",
       "1  JDSAT, Inc. is a solutions company - utilizing...     4.3   \n",
       "2  *** Must have TS/SCI ***\\nJOB DESCRIPTION:\\nIn...     4.6   \n",
       "3  Tensure is a fully-remote technology consultin...     3.8   \n",
       "4  JDSAT, Inc. is a solutions company - utilizing...     4.3   \n",
       "\n",
       "           Company Name          Location  Size  Founded  Type of ownership  \\\n",
       "0              Battelle  Fort Belvoir, VA     5     1929              Other   \n",
       "1                 JDSAT        McLean, VA     1       -1  Company - Private   \n",
       "2  Que Technology Group        McLean, VA     1       -1  Company - Private   \n",
       "3    Tensure Consulting    Washington, DC     1       -1  Company - Private   \n",
       "4                 JDSAT        McLean, VA     1       -1  Company - Private   \n",
       "\n",
       "                 Industry  ... max_salary  avg_salary job_state  \\\n",
       "0  Research & Development  ...      120.0        98.0        VA   \n",
       "1                      -1  ...      138.0       119.5        VA   \n",
       "2                      -1  ...      109.0        91.5        VA   \n",
       "3                      -1  ...      161.0       138.5        DC   \n",
       "4                      -1  ...      108.0        92.0        VA   \n",
       "\n",
       "         job_simp  seniority  desc_len  python_yn  sql_yn  age          US  \n",
       "0  data scientist         na       984          0       0   93       SOUTH  \n",
       "1  data scientist     senior      1127          0       0   36       SOUTH  \n",
       "2  data scientist         na       594          0       0   36       SOUTH  \n",
       "3  data scientist     senior       853          1       1   36  NORTH_EAST  \n",
       "4  data scientist         na      1325          0       0   36       SOUTH  \n",
       "\n",
       "[5 rows x 31 columns]"
      ]
     },
     "execution_count": 21,
     "metadata": {},
     "output_type": "execute_result"
    }
   ],
   "source": [
    "data_frame.head()"
   ]
  },
  {
   "cell_type": "code",
   "execution_count": 22,
   "id": "6b1a6fc7",
   "metadata": {},
   "outputs": [
    {
     "data": {
      "text/plain": [
       "Information Technology            733\n",
       "Other                             682\n",
       "Financial Services                453\n",
       "Management & Consulting           351\n",
       "Unknown                           307\n",
       "Manufacturing                     189\n",
       "Healthcare                        170\n",
       "Media & Communication             154\n",
       "Pharmaceutical & Biotechnology    139\n",
       "Human Resources & Staffing        135\n",
       "Name: Sector, dtype: int64"
      ]
     },
     "execution_count": 22,
     "metadata": {},
     "output_type": "execute_result"
    }
   ],
   "source": [
    "data_frame['Sector'].value_counts()"
   ]
  },
  {
   "cell_type": "code",
   "execution_count": 23,
   "id": "98914755",
   "metadata": {},
   "outputs": [],
   "source": [
    "#standardize numerical variables\n",
    "\n",
    "num_cols = [\"Rating\",\"Cost of Living Index\",\"Rent Index\",\"Cost of Living Plus Rent Index\",\"Local Purchasing Power Index\",\n",
    "            \"age\",\"desc_len\"]\n",
    "std = StandardScaler()\n",
    "std.fit(data_frame[num_cols].values)\n",
    "\n",
    "#apply\n",
    "data_frame[num_cols]= std.transform(data_frame[num_cols].values)"
   ]
  },
  {
   "cell_type": "code",
   "execution_count": 24,
   "id": "cdae21c4",
   "metadata": {},
   "outputs": [],
   "source": [
    "data_frame.to_csv('salary_data_cleaned_with_feature_engg.csv', index = False)"
   ]
  }
 ],
 "metadata": {
  "kernelspec": {
   "display_name": "Python 3 (ipykernel)",
   "language": "python",
   "name": "python3"
  },
  "language_info": {
   "codemirror_mode": {
    "name": "ipython",
    "version": 3
   },
   "file_extension": ".py",
   "mimetype": "text/x-python",
   "name": "python",
   "nbconvert_exporter": "python",
   "pygments_lexer": "ipython3",
   "version": "3.9.12"
  }
 },
 "nbformat": 4,
 "nbformat_minor": 5
}
